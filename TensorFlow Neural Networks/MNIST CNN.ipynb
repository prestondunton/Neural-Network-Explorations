{
 "cells": [
  {
   "cell_type": "code",
   "execution_count": 21,
   "metadata": {
    "collapsed": true
   },
   "outputs": [],
   "source": [
    "import tensorflow as tf\n",
    "from tensorflow.examples.tutorials.mnist import input_data\n",
    "import matplotlib.pyplot as plt\n",
    "import numpy as np\n",
    "import math\n",
    "import time\n",
    "from datetime import timedelta\n",
    "%matplotlib inline"
   ]
  },
  {
   "cell_type": "code",
   "execution_count": 22,
   "metadata": {
    "collapsed": false
   },
   "outputs": [
    {
     "name": "stdout",
     "output_type": "stream",
     "text": [
      "Extracting data/MNIST\\train-images-idx3-ubyte.gz\n",
      "Extracting data/MNIST\\train-labels-idx1-ubyte.gz\n",
      "Extracting data/MNIST\\t10k-images-idx3-ubyte.gz\n",
      "Extracting data/MNIST\\t10k-labels-idx1-ubyte.gz\n"
     ]
    }
   ],
   "source": [
    "mnist = input_data.read_data_sets('data/MNIST',one_hot=True)"
   ]
  },
  {
   "cell_type": "code",
   "execution_count": 23,
   "metadata": {
    "collapsed": true
   },
   "outputs": [],
   "source": [
    "def plot_conv_weights(weights, input_channel=0):\n",
    "    # Assume weights are TensorFlow ops for 4-dim variables\n",
    "    # e.g. weights_conv1 or weights_conv2.\n",
    "    \n",
    "    # Retrieve the values of the weight-variables from TensorFlow.\n",
    "    # A feed-dict is not necessary because nothing is calculated.\n",
    "    w = sess.run(weights)\n",
    "\n",
    "    # Get the lowest and highest values for the weights.\n",
    "    # This is used to correct the colour intensity across\n",
    "    # the images so they can be compared with each other.\n",
    "    w_min = np.min(w)\n",
    "    w_max = np.max(w)\n",
    "\n",
    "    # Number of filters used in the conv. layer.\n",
    "    num_filters = w.shape[3]\n",
    "\n",
    "    # Number of grids to plot.\n",
    "    # Rounded-up, square-root of the number of filters.\n",
    "    num_grids = math.ceil(math.sqrt(num_filters))\n",
    "    \n",
    "    # Create figure with a grid of sub-plots.\n",
    "    fig, axes = plt.subplots(num_grids, num_grids)\n",
    "\n",
    "    # Plot all the filter-weights.\n",
    "    for i, ax in enumerate(axes.flat):\n",
    "        # Only plot the valid filter-weights.\n",
    "        if i<num_filters:\n",
    "            # Get the weights for the i'th filter of the input channel.\n",
    "            # See new_conv_layer() for details on the format\n",
    "            # of this 4-dim tensor.\n",
    "            img = w[:, :, input_channel, i]\n",
    "\n",
    "            # Plot image.\n",
    "            ax.imshow(img, vmin=w_min, vmax=w_max,\n",
    "                      interpolation='nearest', cmap='seismic')\n",
    "        \n",
    "        # Remove ticks from the plot.\n",
    "        ax.set_xticks([])\n",
    "        ax.set_yticks([])\n",
    "    \n",
    "    # Ensure the plot is shown correctly with multiple plots\n",
    "    # in a single Notebook cell.\n",
    "    plt.show()"
   ]
  },
  {
   "cell_type": "code",
   "execution_count": 24,
   "metadata": {
    "collapsed": true
   },
   "outputs": [],
   "source": [
    "#Hyper Parameters and Structure\n",
    "# input > conv > relu > max pooling > flattened > fully connected > sigmoid\n",
    "\n",
    "batchSize = 64 #number of examples to use during training\n",
    "\n",
    "numberOfImages = 55000\n",
    "imgSize = 28\n",
    "imgShape = (imgSize,imgSize)\n",
    "imgShapeFlat = imgSize*imgSize\n",
    "\n",
    "filterSize1 = 5\n",
    "filterShape1 = (filterSize1,filterSize1)\n",
    "filterShapeFlat1 = filterSize1*filterSize1\n",
    "numberOfFilters1 = 16\n",
    "\n",
    "filterSize2 = 5\n",
    "filterShape2 = (filterSize2,filterSize2)\n",
    "filterShapeFlat2 = filterSize2*filterSize2\n",
    "numberOfFilters2 = 36\n",
    "\n",
    "stride = (1,1) # y then x\n",
    "strideShape = [1,stride[0],stride[1],1] #1s on sides are for image number and channel respectively\n",
    "\n",
    "poolingStride = (2,2)\n",
    "poolingStrideShape = [1,poolingStride[0],poolingStride[1],1]\n",
    "\n",
    "numberOfChannels = 1 #this is the color depth. greyscale is 1, rgb is 3 etc. What is binary? probably 1\n",
    "\n",
    "fcSize = 128\n",
    "\n",
    "initSeed = tf.set_random_seed(420)"
   ]
  },
  {
   "cell_type": "code",
   "execution_count": 25,
   "metadata": {
    "collapsed": true
   },
   "outputs": [],
   "source": [
    "trainingData = mnist.train.images.reshape(numberOfImages,imgSize,imgSize,numberOfChannels)"
   ]
  },
  {
   "cell_type": "code",
   "execution_count": 26,
   "metadata": {
    "collapsed": false
   },
   "outputs": [
    {
     "data": {
      "text/plain": [
       "(55000, 10)"
      ]
     },
     "execution_count": 26,
     "metadata": {},
     "output_type": "execute_result"
    }
   ],
   "source": [
    "mnist.train.labels.shape"
   ]
  },
  {
   "cell_type": "code",
   "execution_count": 27,
   "metadata": {
    "collapsed": false
   },
   "outputs": [
    {
     "data": {
      "text/plain": [
       "<matplotlib.image.AxesImage at 0x1e3013bd358>"
      ]
     },
     "execution_count": 27,
     "metadata": {},
     "output_type": "execute_result"
    },
    {
     "data": {
      "image/png": "[encoded data removed]",
      "text/plain": [
       "<matplotlib.figure.Figure at 0x1e301365f60>"
      ]
     },
     "metadata": {},
     "output_type": "display_data"
    }
   ],
   "source": [
    "plt.imshow(trainingData[5].reshape(imgShape),cmap='binary')"
   ]
  },
  {
   "cell_type": "code",
   "execution_count": 28,
   "metadata": {
    "collapsed": true
   },
   "outputs": [],
   "source": [
    "with tf.name_scope('Input'):\n",
    "    x = tf.placeholder(tf.float32,[None,28,28,1])\n",
    "with tf.name_scope('Output'):\n",
    "    y = tf.placeholder(tf.float32,[None,10])"
   ]
  },
  {
   "cell_type": "code",
   "execution_count": 29,
   "metadata": {
    "collapsed": true
   },
   "outputs": [],
   "source": [
    "with tf.name_scope('Convolution1'):\n",
    "    with tf.name_scope('Filters1'):\n",
    "        filters1 = tf.Variable(tf.random_normal([filterSize1,filterSize1,numberOfChannels,numberOfFilters1],seed=initSeed))\n",
    "    activationMap1 = tf.nn.conv2d(x,filters1,strideShape,'SAME')"
   ]
  },
  {
   "cell_type": "code",
   "execution_count": 30,
   "metadata": {
    "collapsed": true
   },
   "outputs": [],
   "source": [
    "with tf.name_scope('MaxPooling1'):\n",
    "    maxPoolLayer1 = tf.nn.max_pool(activationMap1,poolingStrideShape,poolingStrideShape,'SAME')"
   ]
  },
  {
   "cell_type": "code",
   "execution_count": 31,
   "metadata": {
    "collapsed": true
   },
   "outputs": [],
   "source": [
    "with tf.name_scope('ReLU1'):\n",
    "    reluLayer1 = tf.nn.relu(maxPoolLayer1)"
   ]
  },
  {
   "cell_type": "code",
   "execution_count": 32,
   "metadata": {
    "collapsed": true
   },
   "outputs": [],
   "source": [
    "with tf.name_scope('Convolution2'):\n",
    "    with tf.name_scope('Filters2'):\n",
    "        filters2 = tf.Variable(tf.random_normal([filterSize2,filterSize2,numberOfFilters1,numberOfFilters2],seed=initSeed))\n",
    "    activationMap2 = tf.nn.conv2d(reluLayer1,filters2,strideShape,'SAME')"
   ]
  },
  {
   "cell_type": "code",
   "execution_count": 33,
   "metadata": {
    "collapsed": true
   },
   "outputs": [],
   "source": [
    "with tf.name_scope('MaxPooling2'):\n",
    "    maxPoolLayer2 = tf.nn.max_pool(activationMap2,poolingStrideShape,poolingStrideShape,'SAME')"
   ]
  },
  {
   "cell_type": "code",
   "execution_count": 34,
   "metadata": {
    "collapsed": true
   },
   "outputs": [],
   "source": [
    "with tf.name_scope('ReLU2'):\n",
    "    reluLayer2 = tf.nn.relu(maxPoolLayer2)"
   ]
  },
  {
   "cell_type": "code",
   "execution_count": 35,
   "metadata": {
    "collapsed": false
   },
   "outputs": [
    {
     "name": "stdout",
     "output_type": "stream",
     "text": [
      "Tensor(\"Flattening_1/Reshape:0\", shape=(?, 1764), dtype=float32)\n"
     ]
    }
   ],
   "source": [
    "with tf.name_scope('Flattening'):\n",
    "    num_features = reluLayer2.shape[1:4].num_elements() # same as maxPoolLayer.shape[1]*maxPoolLayer.shape[2]*maxPoolLayer.shape[3] but that <- wont work for some reason\n",
    "    flatLayer = tf.reshape(reluLayer2,[-1,(num_features)])\n",
    "    print(flatLayer)"
   ]
  },
  {
   "cell_type": "code",
   "execution_count": 36,
   "metadata": {
    "collapsed": true
   },
   "outputs": [],
   "source": [
    "with tf.name_scope('FC'):\n",
    "    with tf.name_scope('Weights'):\n",
    "        weights1 = tf.Variable(tf.random_normal([num_features,fcSize],seed=initSeed))\n",
    "    with tf.name_scope('Biases'):\n",
    "        biases1 = tf.Variable(tf.random_normal([fcSize],seed=initSeed))\n",
    "    activity1 = tf.matmul(flatLayer,weights1)\n",
    "    activation1 = tf.add(activity1,biases1)\n",
    "    relu1 = tf.nn.relu(activation1)"
   ]
  },
  {
   "cell_type": "code",
   "execution_count": 37,
   "metadata": {
    "collapsed": true
   },
   "outputs": [],
   "source": [
    "with tf.name_scope('Output'):\n",
    "    with tf.name_scope('Weights'):\n",
    "        weights2 = tf.Variable(tf.random_normal([fcSize,10],seed=initSeed))\n",
    "    with tf.name_scope('Biases'):\n",
    "        biases2 = tf.Variable(tf.random_normal([10],seed=initSeed))\n",
    "    activity2 = tf.matmul(relu1,weights2) + biases2\n",
    "    #output = tf.nn.relu(activity2)\n",
    "    yHat = tf.argmax(activity2,dimension=1)"
   ]
  },
  {
   "cell_type": "code",
   "execution_count": 38,
   "metadata": {
    "collapsed": true
   },
   "outputs": [],
   "source": [
    "with tf.name_scope('Loss_And_Training'):\n",
    "    loss = tf.reduce_mean(tf.nn.softmax_cross_entropy_with_logits(logits=activity2,labels=y))\n",
    "    training = tf.train.AdamOptimizer(0.0001).minimize(loss)\n",
    "with tf.name_scope('Accuracy'):\n",
    "    yTrue = tf.argmax(y,dimension=1)\n",
    "    truthTensor = tf.equal(yHat,tf.cast(yTrue,tf.int64))\n",
    "    accuracy = tf.reduce_mean(tf.cast(truthTensor, tf.float32))"
   ]
  },
  {
   "cell_type": "code",
   "execution_count": 39,
   "metadata": {
    "collapsed": true
   },
   "outputs": [],
   "source": [
    "with tf.name_scope('Init'):\n",
    "    init = tf.global_variables_initializer()\n",
    "sess = tf.Session()\n",
    "sess.run(init)\n",
    "currentFilters = filters1\n",
    "#plot_conv_weights(filters)"
   ]
  },
  {
   "cell_type": "code",
   "execution_count": 40,
   "metadata": {
    "collapsed": false
   },
   "outputs": [
    {
     "name": "stdout",
     "output_type": "stream",
     "text": [
      "Iteration: 0 Current Accuracy: 6.25 % Time Elapsed: 0:00:00\n",
      "Iteration: 200 Current Accuracy: 20.3125 % Time Elapsed: 0:00:25\n",
      "Iteration: 400 Current Accuracy: 40.625 % Time Elapsed: 0:00:50\n",
      "Iteration: 600 Current Accuracy: 59.375 % Time Elapsed: 0:01:20\n",
      "Iteration: 800 Current Accuracy: 59.375 % Time Elapsed: 0:01:46\n",
      "Iteration: 1000 Current Accuracy: 60.9375 % Time Elapsed: 0:02:13\n",
      "Iteration: 1200 Current Accuracy: 70.3125 % Time Elapsed: 0:02:39\n",
      "Iteration: 1400 Current Accuracy: 67.1875 % Time Elapsed: 0:03:04\n",
      "Iteration: 1600 Current Accuracy: 81.25 % Time Elapsed: 0:03:29\n",
      "Iteration: 1800 Current Accuracy: 78.125 % Time Elapsed: 0:03:53\n",
      "Iteration: 2000 Current Accuracy: 71.875 % Time Elapsed: 0:04:19\n",
      "Iteration: 2200 Current Accuracy: 85.9375 % Time Elapsed: 0:04:45\n",
      "Iteration: 2400 Current Accuracy: 78.125 % Time Elapsed: 0:05:10\n"
     ]
    }
   ],
   "source": [
    "writer = tf.summary.FileWriter(\"C:/Users/Preston/Anaconda3/envs/tensorflow/tensorboard_graphs\", sess.graph)\n",
    "startTime = time.time()\n",
    "for i in range(0,2600):\n",
    "    xBatch, yBatch = mnist.train.next_batch(batchSize)\n",
    "    xBatch = xBatch.reshape(batchSize,28,28,1)\n",
    "    \n",
    "    xTestBatch, yTestBatch = mnist.test.next_batch(batchSize)\n",
    "    xTestBatch = xTestBatch.reshape(batchSize,28,28,1)\n",
    "    \n",
    "    sess.run(training,{x:xBatch,y:yBatch})\n",
    "    \n",
    "    if i % 200 == 0:\n",
    "        print('Iteration:',i,'Current Accuracy:',sess.run(accuracy,{x:xTestBatch,y:yTestBatch})*100,'%','Time Elapsed:',timedelta(seconds=int(round(time.time()-startTime))))"
   ]
  },
  {
   "cell_type": "code",
   "execution_count": 41,
   "metadata": {
    "collapsed": false
   },
   "outputs": [
    {
     "name": "stdout",
     "output_type": "stream",
     "text": [
      "8137.0\n"
     ]
    }
   ],
   "source": [
    "errors = 0\n",
    "for i in range(0,mnist.test.labels.shape[0]):\n",
    "    prediction = int(sess.run(yHat,{x:mnist.test.images[i:i+1].reshape(1,28,28,1)}))\n",
    "    if np.argmax(mnist.test.labels[i]) != prediction:\n",
    "        errors += 1\n",
    "print((1-(errors/mnist.test.labels.shape[0]))*mnist.test.labels.shape[0])"
   ]
  },
  {
   "cell_type": "code",
   "execution_count": 42,
   "metadata": {
    "collapsed": false
   },
   "outputs": [
    {
     "data": {
      "text/plain": [
       "<matplotlib.image.AxesImage at 0x1e3043ce1d0>"
      ]
     },
     "execution_count": 42,
     "metadata": {},
     "output_type": "execute_result"
    },
    {
     "data": {
      "image/png": "[encoded data removed]",
      "text/plain": [
       "<matplotlib.figure.Figure at 0x1e301389860>"
      ]
     },
     "metadata": {},
     "output_type": "display_data"
    }
   ],
   "source": [
    "plt.imshow(mnist.test.images[i].reshape(imgShape),cmap='binary')"
   ]
  },
  {
   "cell_type": "code",
   "execution_count": 43,
   "metadata": {
    "collapsed": false
   },
   "outputs": [
    {
     "name": "stdout",
     "output_type": "stream",
     "text": [
      "3\n"
     ]
    }
   ],
   "source": [
    "print(np.argmax(mnist.test.labels[i]))"
   ]
  },
  {
   "cell_type": "code",
   "execution_count": null,
   "metadata": {
    "collapsed": true
   },
   "outputs": [],
   "source": []
  }
 ],
 "metadata": {
  "kernelspec": {
   "display_name": "Python 3",
   "language": "python",
   "name": "python3"
  },
  "language_info": {
   "codemirror_mode": {
    "name": "ipython",
    "version": 3
   },
   "file_extension": ".py",
   "mimetype": "text/x-python",
   "name": "python",
   "nbconvert_exporter": "python",
   "pygments_lexer": "ipython3",
   "version": "3.6.0"
  }
 },
 "nbformat": 4,
 "nbformat_minor": 2
}
